{
 "cells": [
  {
   "cell_type": "code",
   "execution_count": null,
   "metadata": {},
   "outputs": [],
   "source": [
    "#import đồ\n",
    "import numpy as np\n",
    "import pandas as pd\n",
    "import matplotlib.pyplot as plt\n",
    "import tensorflow as tf\n",
    "import torch\n",
    "from sklearn.model_selection import train_test_split\n",
    "from tensorflow.keras.models import Sequential\n",
    "from tensorflow.keras.layers import Dense\n",
    "from tensorflow.keras.activations import linear, relu\n"
   ]
  },
  {
   "cell_type": "code",
   "execution_count": null,
   "metadata": {},
   "outputs": [],
   "source": [
    "#load dataset\n",
    "dataset= pd.read_csv(\"C://Users//vutuan//Desktop//My-Projects//Machine Learning//Datasets//Medical-Cost-Personal-Datasets.csv\")\n",
    "dataset"
   ]
  },
  {
   "cell_type": "code",
   "execution_count": null,
   "metadata": {},
   "outputs": [],
   "source": [
    "#chọn feature\n",
    "X= dataset.iloc[:,[0,1,2,3,6]].values\n",
    "y= dataset.iloc[:,[4]].values\n",
    "\n",
    "print(X,y)"
   ]
  },
  {
   "cell_type": "code",
   "execution_count": null,
   "metadata": {},
   "outputs": [],
   "source": [
    "#encoding data\n",
    "for i in range(X.shape[0]):\n",
    "    for j in range(X.shape[1]):\n",
    "        if(X[i][j]=='female'):\n",
    "            X[i][j]=0.\n",
    "        if(X[i][j]=='male'):\n",
    "            X[i][j]=1.\n",
    "            \n",
    "for i in range(y.shape[0]):\n",
    "    for j in range(y.shape[1]):\n",
    "        if(y[i][j]=='no'):\n",
    "            y[i][j]=0\n",
    "        if(y[i][j]=='yes'):\n",
    "            y[i][j]=1\n",
    "            \n",
    "X = X.astype('float64')\n",
    "y = y.astype('float64')\n",
    "print(X)\n",
    "print(y)"
   ]
  },
  {
   "cell_type": "code",
   "execution_count": null,
   "metadata": {},
   "outputs": [],
   "source": [
    "#chia data thành train và test\n",
    "X_train,X_test,y_train,y_test=train_test_split(X,y,test_size=0.4,random_state=8)\n",
    "#chuyển thành mảng tensor\n",
    "X_train = tf.convert_to_tensor(X_train)\n",
    "X_test = tf.convert_to_tensor(X_test)\n",
    "print(X_test,y_test)"
   ]
  },
  {
   "cell_type": "code",
   "execution_count": null,
   "metadata": {},
   "outputs": [],
   "source": [
    "#cài đạt mạng neuron\n",
    "model = Sequential(\n",
    "    [               \n",
    "        tf.keras.Input(shape=(5,)),\n",
    "        Dense(6, activation='relu'),\n",
    "        Dense(1, activation='sigmoid'),\n",
    "\n",
    "    ], \n",
    ")"
   ]
  },
  {
   "cell_type": "code",
   "execution_count": null,
   "metadata": {},
   "outputs": [],
   "source": [
    "#chọn loss functin và optimizer\n",
    "model.compile(\n",
    "    loss=tf.keras.losses.BinaryCrossentropy(from_logits=True),\n",
    "    optimizer=tf.keras.optimizers.Adam(learning_rate=0.00025),\n",
    ")"
   ]
  },
  {
   "cell_type": "code",
   "execution_count": null,
   "metadata": {},
   "outputs": [],
   "source": [
    "#thông tin mạng neuron\n",
    "model.summary()"
   ]
  },
  {
   "cell_type": "code",
   "execution_count": null,
   "metadata": {},
   "outputs": [],
   "source": [
    "history = model.fit(\n",
    "    X_train,y_train,\n",
    "    epochs=200\n",
    ")"
   ]
  },
  {
   "cell_type": "code",
   "execution_count": null,
   "metadata": {},
   "outputs": [],
   "source": [
    "pred=model.predict(X_test)\n",
    "for i in range(pred.shape[0]):\n",
    "    for j in range(pred.shape[1]):\n",
    "        if(pred[i][j]>=0.5):\n",
    "            pred[i][j]=1\n",
    "        if(pred[i][j]<=0.5):\n",
    "            pred[i][j]=0\n",
    "y_hat=np.hstack((y_test,pred))\n",
    "err=0\n",
    "cor=0\n",
    "for i in range(y_hat.shape[0]):\n",
    "    if(y_hat[i][0]!=y_hat[i][1]):\n",
    "        err+=1\n",
    "    else:\n",
    "        cor+=1\n",
    "print('số lỗi:',err)\n",
    "print('chính xác:',cor)\n",
    "print(y_hat)\n"
   ]
  }
 ],
 "metadata": {
  "kernelspec": {
   "display_name": "base",
   "language": "python",
   "name": "python3"
  },
  "language_info": {
   "codemirror_mode": {
    "name": "ipython",
    "version": 3
   },
   "file_extension": ".py",
   "mimetype": "text/x-python",
   "name": "python",
   "nbconvert_exporter": "python",
   "pygments_lexer": "ipython3",
   "version": "3.10.9"
  },
  "orig_nbformat": 4
 },
 "nbformat": 4,
 "nbformat_minor": 2
}
